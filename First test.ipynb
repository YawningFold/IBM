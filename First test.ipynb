{
    "cells": [
        {
            "cell_type": "markdown",
            "metadata": {
                "collapsed": true
            },
            "source": "# My Jupyter Notebook on IBM Watson Studio"
        },
        {
            "cell_type": "markdown",
            "metadata": {},
            "source": "**Abhay** <br>\nData Scientist "
        },
        {
            "cell_type": "markdown",
            "metadata": {},
            "source": "*Data science has always fascinated me, the idea of how you can predict stuff, the process of getting the answer to a problem, the step by step process of analysis and the use of mathematics, and many more.*"
        },
        {
            "cell_type": "markdown",
            "metadata": {},
            "source": "### The below code prints the first 10 digits of fibonacci series"
        },
        {
            "cell_type": "code",
            "execution_count": 4,
            "metadata": {},
            "outputs": [
                {
                    "name": "stdout",
                    "output_type": "stream",
                    "text": "The 10 digits of fibonacci sequence: \n0\n1\n1\n2\n3\n5\n8\n13\n21\n34\n"
                }
            ],
            "source": "n=10 \nn1 = 0  \nn2 = 1  \ncount = 0    \nprint (\"The 10 digits of fibonacci sequence: \")  \nwhile count < n:  \n        print(n1)  \n        nf = n1 + n2   \n        n1 = n2  \n        n2 = nf  \n        count += 1 \n"
        },
        {
            "cell_type": "markdown",
            "metadata": {},
            "source": "- bullet 1\n - bullet 2\n     - bullet 3\n1. numbered list 1\n2. numbered list 2\n| Heading 1 | Heading 2 |\n| ----| ----|\n| text 1.1   | text 2.1 |\n| text 1.2 | text 2.2 |\n> some random paragraph just to create blocked quotes, as the table may sometimes not be visible properly\n"
        },
        {
            "cell_type": "code",
            "execution_count": null,
            "metadata": {},
            "outputs": [],
            "source": ""
        }
    ],
    "metadata": {
        "kernelspec": {
            "display_name": "Python 3.9",
            "language": "python",
            "name": "python3"
        },
        "language_info": {
            "codemirror_mode": {
                "name": "ipython",
                "version": 3
            },
            "file_extension": ".py",
            "mimetype": "text/x-python",
            "name": "python",
            "nbconvert_exporter": "python",
            "pygments_lexer": "ipython3",
            "version": "3.9.13"
        }
    },
    "nbformat": 4,
    "nbformat_minor": 1
}